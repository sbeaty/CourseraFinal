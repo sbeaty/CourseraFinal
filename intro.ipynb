{
 "cells": [
  {
   "cell_type": "code",
   "execution_count": null,
   "metadata": {},
   "outputs": [],
   "source": []
  },
  {
   "cell_type": "markdown",
   "metadata": {},
   "source": [
    "## Problem Statement\r\n",
    "\r\n",
    "A young entrepreneur in New York city is wanting to open a mobile pest control business with a strong focus on food industry. The business concept is chosen to have employees travelling to the customers by escooters or ebikes allowing for extra savings on fleet and travel time as well as other costs associated. However a basic requirement for storage and cleaning facilities are stated as follows :\r\n",
    "- The location for the base needs to be chosen as closely to the most of the job locations as possible\r\n",
    "- Location detailed down to a neighborhood level\r\n",
    "\r\n",
    "The task will involve some exploratory analysis of Food Venues in NY as well as the potential in the services required."
   ]
  }
 ],
 "metadata": {
  "kernelspec": {
   "display_name": "Python 3.9.5 64-bit",
   "name": "python395jvsc74a57bd02ca36294206a5eec88d7418a0b4827d64be3f087d9efa2c0be6c80c4b5cd418f"
  },
  "language_info": {
   "name": "python",
   "version": ""
  },
  "metadata": {
   "interpreter": {
    "hash": "2ca36294206a5eec88d7418a0b4827d64be3f087d9efa2c0be6c80c4b5cd418f"
   }
  },
  "orig_nbformat": 2
 },
 "nbformat": 4,
 "nbformat_minor": 2
}