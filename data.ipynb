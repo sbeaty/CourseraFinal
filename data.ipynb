{
 "cells": [
  {
   "cell_type": "code",
   "execution_count": null,
   "metadata": {},
   "outputs": [],
   "source": []
  },
  {
   "cell_type": "markdown",
   "metadata": {},
   "source": [
    "# DATA\n",
    "\n",
    "## Dataset 1\n",
    "\n",
    "The data we are going to use is a Foursquare API data retieval consisting of venues and categories of venues in the whole New York city.\n",
    "Contains the following fields :\n",
    "-   name\n",
    "-   categories\n",
    "-   lat\n",
    "-   lng\n",
    "\n",
    "Sample : \n",
    "***\n",
    "name\t            categories\t        lat\t                lng\n",
    "\n",
    "\n",
    "0\tLollipops Gelato\tDessert Shop\t40.894123\t-73.845892\n",
    "1\tRite Aid\t        Pharmacy\t    40.896649\t-73.844846\n",
    "2\tCarvel Ice Cream\tIce Cream Shop\t40.890487\t-73.848568\n",
    "3\tWalgreens\t        Pharmacy\t    40.896528\t-73.844700\n",
    "4\tDunkin'\t            Donut Shop\t    40.890459\t-73.84908\n",
    "\n",
    "***\n",
    "* We are going build the hot encoded table and count the values for each Neoghborhood therefore we are not much concerned with the geo data\n",
    "\n",
    "\n",
    "\n",
    "## Dataset 2\n",
    "\n",
    "The second dataset is a NYC Rat Sightings dataset freely available on https://www.kaggle.com/new-york-city/nyc-rat-sightings\n",
    "\n",
    "New York City rodent complaints can be made online, or by dialing 3-1-1, and the New York City guide Preventing Rats on Your Property discusses how the New York City Health Department inspects private and public properties for rats. Property owners that fail inspections receive a Commissioner's Order and have five days to correct the problem. If after five days the property fails a second inspection, the owner receives a Notice of Violation and can be fined. The property owner is billed for any clean-up or extermination carried out by the Health Department.\n",
    "\n",
    "Data is from 2010-Sept 16th, 2017 and includes date, location (lat/lon), type of structure, borough, and community board.\n",
    "\n",
    "\n",
    "Contains the fields :\n",
    "Unique Key\tCreated Date\tClosed Date\tAgency\tAgency Name\tComplaint Type\tDescriptor\tLocation Type\tIncident Zip\tIncident Address\tStreet Name\tCross Street 1\tCross Street 2\tIntersection Street 1\tIntersection Street 2\tAddress Type\tCity\tLandmark\tFacility Type\tStatus\tDue Date\tResolution Action Updated Date\tCommunity Board\tBorough\tX Coordinate (State Plane)\tY Coordinate (State Plane)\tPark Facility Name\tPark Borough\tSchool Name\tSchool Number\tSchool Region\tSchool Code\tSchool Phone Number\tSchool Address\tSchool City\tSchool State\tSchool Zip\tSchool Not Found\tSchool or Citywide Complaint\tVehicle Type\tTaxi Company Borough\tTaxi Pick Up Location\tBridge Highway Name\tBridge Highway Direction\tRoad Ramp\tBridge Highway Segment\tGarage Lot Name\tFerry Direction\tFerry Terminal Name\tLatitude\tLongitude\tLocation\n",
    "\n",
    "### We only use the fields of Borough and count the grouped values\n",
    "\n",
    "## Dataset 3\n",
    "\n",
    "New York Borough data in JSON format\n",
    "Contains : \n",
    "- Borough \n",
    "- Neighborhood\n",
    "- lat\n",
    "- lng\n",
    "\n",
    "## Dataset 4.\n",
    "Obtained via a webscraping technique from the website (https://www.nycbynatives.com/nyc_info/new_york_city_zip_codes.php)\n",
    "\n",
    "NYC zip codes for each Borough. Contains :\n",
    "- Borough\n",
    "- ZIP\n",
    "\n",
    "Cleaned sample:\n",
    "***\n",
    "    zip\t    borough\n",
    "\n",
    "0\t10001\tManhattan\n",
    "1\t10002\tManhattan\n",
    "2\t10003\tManhattan\n",
    "3\t10004\tManhattan\n",
    "4\t10005\tManhattan\n",
    "***\n",
    "We will use this table to join it on zip with the rat sightings table"
   ]
  }
 ],
 "metadata": {
  "kernelspec": {
   "display_name": "Python 3.9.5 64-bit",
   "name": "python395jvsc74a57bd02ca36294206a5eec88d7418a0b4827d64be3f087d9efa2c0be6c80c4b5cd418f"
  },
  "language_info": {
   "name": "python",
   "version": ""
  },
  "metadata": {
   "interpreter": {
    "hash": "2ca36294206a5eec88d7418a0b4827d64be3f087d9efa2c0be6c80c4b5cd418f"
   }
  },
  "orig_nbformat": 2
 },
 "nbformat": 4,
 "nbformat_minor": 2
}