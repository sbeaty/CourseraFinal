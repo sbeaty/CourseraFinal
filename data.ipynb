{
 "cells": [
  {
   "cell_type": "code",
   "execution_count": null,
   "metadata": {},
   "outputs": [],
   "source": []
  },
  {
   "cell_type": "markdown",
   "metadata": {},
   "source": [
    "# DATA\r\n",
    "\r\n",
    "### Dataset 1\r\n",
    "\r\n",
    "The data we are going to use is a Foursquare API data retieval consisting of venues and categories of venues in the whole New York city\r\n",
    "\r\n",
    "### Dataset 2\r\n",
    "\r\n",
    "The second dataset is a NYC Rat Sightings dataset freely available on https://www.kaggle.com/new-york-city/nyc-rat-sightings\r\n",
    "\r\n",
    "New York City rodent complaints can be made online, or by dialing 3-1-1, and the New York City guide Preventing Rats on Your Property discusses how the New York City Health Department inspects private and public properties for rats. Property owners that fail inspections receive a Commissioner's Order and have five days to correct the problem. If after five days the property fails a second inspection, the owner receives a Notice of Violation and can be fined. The property owner is billed for any clean-up or extermination carried out by the Health Department.\r\n",
    "\r\n",
    "Data is from 2010-Sept 16th, 2017 and includes date, location (lat/lon), type of structure, borough, and community board."
   ]
  }
 ],
 "metadata": {
  "kernelspec": {
   "display_name": "Python 3.9.5 64-bit",
   "name": "python395jvsc74a57bd02ca36294206a5eec88d7418a0b4827d64be3f087d9efa2c0be6c80c4b5cd418f"
  },
  "language_info": {
   "name": "python",
   "version": ""
  },
  "metadata": {
   "interpreter": {
    "hash": "2ca36294206a5eec88d7418a0b4827d64be3f087d9efa2c0be6c80c4b5cd418f"
   }
  },
  "orig_nbformat": 2
 },
 "nbformat": 4,
 "nbformat_minor": 2
}